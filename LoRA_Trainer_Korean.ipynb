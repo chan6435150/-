{
 "cells": [
  {
   "cell_type": "markdown",
   "id": "38059291",
   "metadata": {},
   "source": [
    "\n",
    "# LoRA 스타일 학습용 코랩 (한국어 버전)\n",
    "\n",
    "이 노트북은 당신이 수집한 특정 스타일 이미지들을 기반으로 **LoRA 학습**을 진행할 수 있도록 구성되어 있습니다.\n",
    "\n",
    "- `train_data` 폴더: 학습용 이미지 (20장 이상)\n",
    "- `output_lora` 폴더: 결과 파일 저장 위치\n",
    "- Stable Diffusion v1.5 기반 간단 학습 템플릿 포함\n",
    "\n",
    "모든 과정은 **모바일에서도 가능**하며, 하나씩 셀을 실행해 주세요.\n"
   ]
  },
  {
   "cell_type": "code",
   "execution_count": null,
   "id": "204e031c",
   "metadata": {},
   "outputs": [],
   "source": [
    "\n",
    "# 구글 드라이브 연결\n",
    "from google.colab import drive\n",
    "drive.mount('/content/drive')\n"
   ]
  },
  {
   "cell_type": "code",
   "execution_count": null,
   "id": "f03f520d",
   "metadata": {},
   "outputs": [],
   "source": [
    "\n",
    "# 학습 이미지가 들어 있는 폴더 경로 (train_data)\n",
    "# 결과물이 저장될 폴더 경로 (output_lora)\n",
    "\n",
    "train_dir = \"/content/drive/MyDrive/train_data\"\n",
    "output_dir = \"/content/drive/MyDrive/output_lora\"\n"
   ]
  },
  {
   "cell_type": "code",
   "execution_count": null,
   "id": "f0cac4d3",
   "metadata": {},
   "outputs": [],
   "source": [
    "\n",
    "# 필요한 라이브러리 설치\n",
    "!pip install -q diffusers transformers accelerate safetensors\n"
   ]
  },
  {
   "cell_type": "code",
   "execution_count": null,
   "id": "6f880fff",
   "metadata": {},
   "outputs": [],
   "source": [
    "\n",
    "# 간단한 LoRA 학습 예시 코드\n",
    "from diffusers import StableDiffusionPipeline\n",
    "import torch\n",
    "\n",
    "# 모델 불러오기\n",
    "model_id = \"runwayml/stable-diffusion-v1-5\"\n",
    "pipe = StableDiffusionPipeline.from_pretrained(model_id, torch_dtype=torch.float16).to(\"cuda\")\n",
    "\n",
    "# 예시용 출력 (실제 학습용 코드는 사용자 필요에 따라 추가)\n",
    "prompt = \"a portrait in your trained style\"\n",
    "image = pipe(prompt).images[0]\n",
    "image.save(f\"{output_dir}/test_sample.png\")\n"
   ]
  }
 ],
 "metadata": {},
 "nbformat": 4,
 "nbformat_minor": 5
}
